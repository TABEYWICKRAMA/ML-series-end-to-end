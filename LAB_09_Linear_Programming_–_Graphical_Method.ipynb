{
  "nbformat": 4,
  "nbformat_minor": 0,
  "metadata": {
    "colab": {
      "provenance": [],
      "authorship_tag": "ABX9TyMGlFsS8a6YA+zujQzbIPuB",
      "include_colab_link": true
    },
    "kernelspec": {
      "name": "python3",
      "display_name": "Python 3"
    },
    "language_info": {
      "name": "python"
    }
  },
  "cells": [
    {
      "cell_type": "markdown",
      "metadata": {
        "id": "view-in-github",
        "colab_type": "text"
      },
      "source": [
        "<a href=\"https://colab.research.google.com/github/TABEYWICKRAMA/ML-series-end-to-end/blob/main/LAB_09_Linear_Programming_%E2%80%93_Graphical_Method.ipynb\" target=\"_parent\"><img src=\"https://colab.research.google.com/assets/colab-badge.svg\" alt=\"Open In Colab\"/></a>"
      ]
    },
    {
      "cell_type": "markdown",
      "source": [
        "(01) Solve the following maximization problem using the Graphical Method."
      ],
      "metadata": {
        "id": "2Udcv9NccfzH"
      }
    },
    {
      "cell_type": "markdown",
      "source": [
        "Maximize Z = f(x,y) = 3x + 2y\n",
        "\n",
        "---\n",
        "\n",
        "*   subject to: 2x + y <= 18\n",
        "*   subject to: 2x + 3y <= 42\n",
        "*   subject to: 3x + y <= 24\n",
        "*   x>=0 , y >= 0\n",
        "\n",
        "\n",
        "\n"
      ],
      "metadata": {
        "id": "nuZ1jn8Gci9V"
      }
    },
    {
      "cell_type": "markdown",
      "source": [
        "(02) Solve the above problem using Python Pulp library"
      ],
      "metadata": {
        "id": "_nTlOE4bduRz"
      }
    },
    {
      "cell_type": "code",
      "source": [
        "!pip install pulp"
      ],
      "metadata": {
        "colab": {
          "base_uri": "https://localhost:8080/"
        },
        "id": "MXqvW1AqaqYm",
        "outputId": "ab2fc1eb-9711-4317-8cdd-14f32b65af32"
      },
      "execution_count": 39,
      "outputs": [
        {
          "output_type": "stream",
          "name": "stdout",
          "text": [
            "Looking in indexes: https://pypi.org/simple, https://us-python.pkg.dev/colab-wheels/public/simple/\n",
            "Requirement already satisfied: pulp in /usr/local/lib/python3.7/dist-packages (2.7.0)\n"
          ]
        }
      ]
    },
    {
      "cell_type": "code",
      "source": [
        "from pulp import *\n",
        "import matplotlib.pyplot as plt\n",
        "import numpy as np"
      ],
      "metadata": {
        "id": "0khkxc9QaVhV"
      },
      "execution_count": 40,
      "outputs": []
    },
    {
      "cell_type": "code",
      "source": [
        "prob = LpProblem(\"Simple LP Problem\", LpMaximize)"
      ],
      "metadata": {
        "id": "pupTXNQOayXx"
      },
      "execution_count": 41,
      "outputs": []
    },
    {
      "cell_type": "code",
      "source": [
        "x = LpVariable(\"x\", 0)\n",
        "y = LpVariable(\"y\", 0)"
      ],
      "metadata": {
        "id": "3K2-ZDfDa7HQ"
      },
      "execution_count": 42,
      "outputs": []
    },
    {
      "cell_type": "code",
      "source": [
        "prob += 3*x + 2*y"
      ],
      "metadata": {
        "id": "K-zKBjFHa9vz"
      },
      "execution_count": 43,
      "outputs": []
    },
    {
      "cell_type": "code",
      "source": [
        "# Define the constraints\n",
        "prob += 2*x + y <= 18.0\n",
        "prob += 2*x + 3*y <= 42.0\n",
        "prob += 3*x + y <= 24.0"
      ],
      "metadata": {
        "id": "ItXfoIQ0bBAo"
      },
      "execution_count": 44,
      "outputs": []
    },
    {
      "cell_type": "code",
      "source": [
        "prob.solve()\n"
      ],
      "metadata": {
        "colab": {
          "base_uri": "https://localhost:8080/"
        },
        "id": "7uLdbrNTbCYm",
        "outputId": "47b0283b-d998-4a90-e1bc-4abf47dfa34d"
      },
      "execution_count": 45,
      "outputs": [
        {
          "output_type": "execute_result",
          "data": {
            "text/plain": [
              "1"
            ]
          },
          "metadata": {},
          "execution_count": 45
        }
      ]
    },
    {
      "cell_type": "code",
      "source": [
        "x.varValue"
      ],
      "metadata": {
        "colab": {
          "base_uri": "https://localhost:8080/"
        },
        "id": "N8EDd7kQbFKY",
        "outputId": "161ff1e9-3c72-4d5d-ce52-d2ac9f7aa6a4"
      },
      "execution_count": 46,
      "outputs": [
        {
          "output_type": "execute_result",
          "data": {
            "text/plain": [
              "3.0"
            ]
          },
          "metadata": {},
          "execution_count": 46
        }
      ]
    },
    {
      "cell_type": "code",
      "source": [
        "y.varValue"
      ],
      "metadata": {
        "colab": {
          "base_uri": "https://localhost:8080/"
        },
        "id": "OPiMZXOSbGyK",
        "outputId": "4408b3bb-f734-4f18-c9e4-121c7609cda9"
      },
      "execution_count": 47,
      "outputs": [
        {
          "output_type": "execute_result",
          "data": {
            "text/plain": [
              "12.0"
            ]
          },
          "metadata": {},
          "execution_count": 47
        }
      ]
    },
    {
      "cell_type": "code",
      "source": [
        "value(prob.objective)\n"
      ],
      "metadata": {
        "colab": {
          "base_uri": "https://localhost:8080/"
        },
        "id": "VIRDGz9RbImn",
        "outputId": "5ff67393-ac42-431e-bee3-053ff617d00f"
      },
      "execution_count": 48,
      "outputs": [
        {
          "output_type": "execute_result",
          "data": {
            "text/plain": [
              "33.0"
            ]
          },
          "metadata": {},
          "execution_count": 48
        }
      ]
    }
  ]
}